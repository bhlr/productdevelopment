{
  "nbformat": 4,
  "nbformat_minor": 0,
  "metadata": {
    "colab": {
      "name": "FastAPI-tarea.ipynb",
      "provenance": []
    },
    "kernelspec": {
      "name": "python3",
      "display_name": "Python 3"
    },
    "language_info": {
      "name": "python"
    }
  },
  "cells": [
    {
      "cell_type": "markdown",
      "metadata": {
        "id": "Dkk3L8zWNPHI"
      },
      "source": [
        "Utilizando fast api debe realizar un servicio que defina 5 paths uno para suma, resta, multiplicacion y division, donde reciban un arreglo y opere apropiadamente el arreglo, es decir si es suma, sume todos los valores del arreglo, si es resta los resta, etc. El ultimo path debe recibir el arreglo y la operacion como parametro y dar el mismo resultado."
      ]
    },
    {
      "cell_type": "code",
      "metadata": {
        "colab": {
          "base_uri": "https://localhost:8080/"
        },
        "id": "6Qs6h4CxNTzp",
        "outputId": "534c8e7d-9438-449d-e66c-361617680f53"
      },
      "source": [
        "!pip install fastapi nest-asyncio pyngrok uvicorn"
      ],
      "execution_count": 1,
      "outputs": [
        {
          "output_type": "stream",
          "name": "stdout",
          "text": [
            "Collecting fastapi\n",
            "  Downloading fastapi-0.70.0-py3-none-any.whl (51 kB)\n",
            "\u001b[?25l\r\u001b[K     |██████▎                         | 10 kB 22.9 MB/s eta 0:00:01\r\u001b[K     |████████████▋                   | 20 kB 29.2 MB/s eta 0:00:01\r\u001b[K     |███████████████████             | 30 kB 35.7 MB/s eta 0:00:01\r\u001b[K     |█████████████████████████▎      | 40 kB 40.5 MB/s eta 0:00:01\r\u001b[K     |███████████████████████████████▋| 51 kB 38.3 MB/s eta 0:00:01\r\u001b[K     |████████████████████████████████| 51 kB 583 kB/s \n",
            "\u001b[?25hRequirement already satisfied: nest-asyncio in /usr/local/lib/python3.7/dist-packages (1.5.1)\n",
            "Collecting pyngrok\n",
            "  Downloading pyngrok-5.1.0.tar.gz (745 kB)\n",
            "\u001b[K     |████████████████████████████████| 745 kB 33.6 MB/s \n",
            "\u001b[?25hCollecting uvicorn\n",
            "  Downloading uvicorn-0.15.0-py3-none-any.whl (54 kB)\n",
            "\u001b[K     |████████████████████████████████| 54 kB 3.1 MB/s \n",
            "\u001b[?25hCollecting starlette==0.16.0\n",
            "  Downloading starlette-0.16.0-py3-none-any.whl (61 kB)\n",
            "\u001b[K     |████████████████████████████████| 61 kB 282 kB/s \n",
            "\u001b[?25hCollecting pydantic!=1.7,!=1.7.1,!=1.7.2,!=1.7.3,!=1.8,!=1.8.1,<2.0.0,>=1.6.2\n",
            "  Downloading pydantic-1.8.2-cp37-cp37m-manylinux2014_x86_64.whl (10.1 MB)\n",
            "\u001b[K     |████████████████████████████████| 10.1 MB 54.9 MB/s \n",
            "\u001b[?25hRequirement already satisfied: typing-extensions in /usr/local/lib/python3.7/dist-packages (from starlette==0.16.0->fastapi) (3.10.0.2)\n",
            "Collecting anyio<4,>=3.0.0\n",
            "  Downloading anyio-3.4.0-py3-none-any.whl (78 kB)\n",
            "\u001b[K     |████████████████████████████████| 78 kB 6.7 MB/s \n",
            "\u001b[?25hRequirement already satisfied: idna>=2.8 in /usr/local/lib/python3.7/dist-packages (from anyio<4,>=3.0.0->starlette==0.16.0->fastapi) (2.10)\n",
            "Collecting sniffio>=1.1\n",
            "  Downloading sniffio-1.2.0-py3-none-any.whl (10 kB)\n",
            "Requirement already satisfied: PyYAML in /usr/local/lib/python3.7/dist-packages (from pyngrok) (3.13)\n",
            "Collecting asgiref>=3.4.0\n",
            "  Downloading asgiref-3.4.1-py3-none-any.whl (25 kB)\n",
            "Requirement already satisfied: click>=7.0 in /usr/local/lib/python3.7/dist-packages (from uvicorn) (7.1.2)\n",
            "Collecting h11>=0.8\n",
            "  Downloading h11-0.12.0-py3-none-any.whl (54 kB)\n",
            "\u001b[K     |████████████████████████████████| 54 kB 4.0 MB/s \n",
            "\u001b[?25hBuilding wheels for collected packages: pyngrok\n",
            "  Building wheel for pyngrok (setup.py) ... \u001b[?25l\u001b[?25hdone\n",
            "  Created wheel for pyngrok: filename=pyngrok-5.1.0-py3-none-any.whl size=19006 sha256=054a879014f180beda702751dc960d5c4e1b73177c754b16abfe35edbd3488dc\n",
            "  Stored in directory: /root/.cache/pip/wheels/bf/e6/af/ccf6598ecefecd44104069371795cb9b3afbcd16987f6ccfb3\n",
            "Successfully built pyngrok\n",
            "Installing collected packages: sniffio, anyio, starlette, pydantic, h11, asgiref, uvicorn, pyngrok, fastapi\n",
            "Successfully installed anyio-3.4.0 asgiref-3.4.1 fastapi-0.70.0 h11-0.12.0 pydantic-1.8.2 pyngrok-5.1.0 sniffio-1.2.0 starlette-0.16.0 uvicorn-0.15.0\n"
          ]
        }
      ]
    },
    {
      "cell_type": "code",
      "metadata": {
        "id": "uwC_SadqNYVJ"
      },
      "source": [
        "from fastapi import FastAPI, Response, Query\n",
        "from fastapi.middleware.cors import CORSMiddleware\n",
        "from enum import Enum\n",
        "from typing import Optional,List\n",
        "\n",
        "from fastapi.responses import ORJSONResponse,UJSONResponse,HTMLResponse\n",
        "from functools import reduce"
      ],
      "execution_count": 22,
      "outputs": []
    },
    {
      "cell_type": "code",
      "metadata": {
        "colab": {
          "base_uri": "https://localhost:8080/"
        },
        "id": "xQNvw5tjNfzT",
        "outputId": "5d16e4cd-0e10-4943-a7b0-07d9448ab081"
      },
      "source": [
        "def sumar(x,y):\n",
        "  return x+y\n",
        "\n",
        "def resta(x,y):\n",
        "  return x - y\n",
        "\n",
        "def multiplicacion(x,y):\n",
        "  return x * y\n",
        "\n",
        "def division(x,y):\n",
        "  return x / y\n",
        "  \n",
        "notas = [1, 1, 9.0, 8.0, 5.0, 10.0, 7.0, 7.5, 4.0, 10.0, 7.0, 7.0, 8.0, 8.0, 7.5]\n",
        "reduce(division, notas)\n",
        "operador = \"sumar\"\n",
        "reduce(locals()[operador],notas)"
      ],
      "execution_count": 49,
      "outputs": [
        {
          "output_type": "execute_result",
          "data": {
            "text/plain": [
              "100.0"
            ]
          },
          "metadata": {},
          "execution_count": 49
        }
      ]
    },
    {
      "cell_type": "code",
      "metadata": {
        "id": "PpbehGdoUWSm"
      },
      "source": [
        "app = FastAPI()\n",
        "\n",
        "@app.get(\"/\")\n",
        "def root():\n",
        "  return {\"message\": \"Hello World,From Galileo Master\"}\n",
        "\n",
        "@app.get(\"/sumar/\")\n",
        "def read_item(elementos: List[int] = Query([])):\n",
        "  return {\"resultado\": reduce(sumar,elementos)}\n",
        "\n",
        "@app.get(\"/resta/\")\n",
        "def read_item(elementos: List[int] = Query([])):\n",
        "  return {\"resultado\": reduce(resta,elementos)}\n",
        "\n",
        "@app.get(\"/multiplicacion/\")\n",
        "def read_item(elementos: List[int] = Query([])):\n",
        "  return {\"resultado\": reduce(multiplicacion,elementos)}\n",
        "\n",
        "@app.get(\"/division/\")\n",
        "def read_item(elementos: List[int] = Query([])):\n",
        "  return {\"resultado\": reduce(division,elementos)}\n",
        "\n",
        "@app.get(\"/operacions/{operacion}\")\n",
        "def read_item(operacion: str, elementos: List[int] = Query([])):\n",
        "  return {\"resultado\": reduce(globals()[operacion],elementos)}\n",
        "\n"
      ],
      "execution_count": 54,
      "outputs": []
    },
    {
      "cell_type": "code",
      "metadata": {
        "colab": {
          "base_uri": "https://localhost:8080/"
        },
        "id": "E_xw7V58ZuSq",
        "outputId": "8b4a6d84-b365-42a1-e481-0f8b15823382"
      },
      "source": [
        "import nest_asyncio\n",
        "from pyngrok import ngrok\n",
        "import uvicorn\n",
        "\n",
        "ngrok_tunnel = ngrok.connect(8000)\n",
        "print('Public URL:', ngrok_tunnel.public_url)\n",
        "nest_asyncio.apply()\n",
        "uvicorn.run(app, port=8000)"
      ],
      "execution_count": null,
      "outputs": [
        {
          "output_type": "stream",
          "name": "stdout",
          "text": [
            "Public URL: http://73c2-34-86-56-80.ngrok.io\n"
          ]
        },
        {
          "output_type": "stream",
          "name": "stderr",
          "text": [
            "INFO:     Started server process [61]\n",
            "INFO:     Waiting for application startup.\n",
            "INFO:     Application startup complete.\n",
            "INFO:     Uvicorn running on http://127.0.0.1:8000 (Press CTRL+C to quit)\n"
          ]
        },
        {
          "output_type": "stream",
          "name": "stdout",
          "text": [
            "INFO:     181.209.233.167:0 - \"GET / HTTP/1.1\" 200 OK\n",
            "INFO:     181.209.233.167:0 - \"GET /favicon.ico HTTP/1.1\" 404 Not Found\n",
            "INFO:     181.209.233.167:0 - \"GET /docs HTTP/1.1\" 200 OK\n",
            "INFO:     181.209.233.167:0 - \"GET /openapi.json HTTP/1.1\" 200 OK\n",
            "INFO:     181.209.233.167:0 - \"GET /operacions/sumar?elementos=23&elementos=3&elementos=4 HTTP/1.1\" 200 OK\n"
          ]
        }
      ]
    }
  ]
}